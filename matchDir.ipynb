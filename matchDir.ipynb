{
 "cells": [
  {
   "cell_type": "code",
   "execution_count": 68,
   "id": "c1a2df34",
   "metadata": {},
   "outputs": [],
   "source": [
    "import psfws\n",
    "import numpy as np\n",
    "import pandas as pd\n",
    "from scipy.interpolate import interp1d\n",
    "\n",
    "seeds = list(range(6, 11)) + [22, 23, 25, 26, 27] + list(range(30, 40))\n",
    "seeds += list(range(42, 171))\n",
    "\n",
    "h_random = np.array([0.0, 2.58, 5.16, 7.73, 12.89, 15.46])\n"
   ]
  },
  {
   "cell_type": "code",
   "execution_count": 87,
   "id": "8ab4e755",
   "metadata": {},
   "outputs": [],
   "source": [
    "ws = psfws.ParameterGenerator(seed=27)\n",
    "pt = ws.draw_datapoint()\n",
    "measurement_dict = ws.get_measurements(pt)\n",
    "\n",
    "#get ground layer measurements\n",
    "gl = ws.data_gl.loc[pt]\n",
    "gl['h'] = 0\n",
    "\n",
    "#adding ground to interpolation dict\n",
    "for i in measurement_dict.keys():\n",
    "    measurement_dict[i] = np.insert(measurement_dict[i],0,gl[i])"
   ]
  },
  {
   "cell_type": "code",
   "execution_count": 88,
   "id": "a3a99d8f",
   "metadata": {},
   "outputs": [
    {
     "ename": "ValueError",
     "evalue": "Can't interpolate below 2.8655399999999998 or above 25.38755.",
     "output_type": "error",
     "traceback": [
      "\u001b[0;31m---------------------------------------------------------------------------\u001b[0m",
      "\u001b[0;31mValueError\u001b[0m                                Traceback (most recent call last)",
      "Cell \u001b[0;32mIn[88], line 1\u001b[0m\n\u001b[0;32m----> 1\u001b[0m p_out \u001b[38;5;241m=\u001b[39m \u001b[43mws\u001b[49m\u001b[38;5;241;43m.\u001b[39;49m\u001b[43m_interpolate\u001b[49m\u001b[43m(\u001b[49m\u001b[43mmeasurement_dict\u001b[49m\u001b[43m,\u001b[49m\u001b[43m \u001b[49m\u001b[43mh_random\u001b[49m\u001b[43m,\u001b[49m\u001b[43ms\u001b[49m\u001b[38;5;241;43m=\u001b[39;49m\u001b[38;5;241;43m0\u001b[39;49m\u001b[43m)\u001b[49m\n\u001b[1;32m      2\u001b[0m directions \u001b[38;5;241m=\u001b[39m p_out[\u001b[38;5;124m'\u001b[39m\u001b[38;5;124mphi\u001b[39m\u001b[38;5;124m'\u001b[39m]\n\u001b[1;32m      3\u001b[0m directions\u001b[38;5;241m.\u001b[39mshape\n",
      "File \u001b[0;32m~/miniconda3/envs/desc/lib/python3.10/site-packages/psfws-0.1-py3.10.egg/psfws/gen_params.py:221\u001b[0m, in \u001b[0;36mParameterGenerator._interpolate\u001b[0;34m(self, p_dict, h_out, s)\u001b[0m\n\u001b[1;32m    219\u001b[0m     \u001b[38;5;28;01mraise\u001b[39;00m \u001b[38;5;167;01mValueError\u001b[39;00m(\u001b[38;5;124m'\u001b[39m\u001b[38;5;124mUnits of h should be in km, not m.\u001b[39m\u001b[38;5;124m'\u001b[39m)\n\u001b[1;32m    220\u001b[0m \u001b[38;5;28;01mif\u001b[39;00m \u001b[38;5;28mmin\u001b[39m(h_out) \u001b[38;5;241m<\u001b[39m \u001b[38;5;28mmin\u001b[39m(\u001b[38;5;28mself\u001b[39m\u001b[38;5;241m.\u001b[39mh) \u001b[38;5;129;01mor\u001b[39;00m \u001b[38;5;28mmax\u001b[39m(h_out) \u001b[38;5;241m>\u001b[39m \u001b[38;5;28mmax\u001b[39m(\u001b[38;5;28mself\u001b[39m\u001b[38;5;241m.\u001b[39mh):\n\u001b[0;32m--> 221\u001b[0m     \u001b[38;5;28;01mraise\u001b[39;00m \u001b[38;5;167;01mValueError\u001b[39;00m(\u001b[38;5;124mf\u001b[39m\u001b[38;5;124m\"\u001b[39m\u001b[38;5;124mCan\u001b[39m\u001b[38;5;124m'\u001b[39m\u001b[38;5;124mt interpolate below \u001b[39m\u001b[38;5;132;01m{\u001b[39;00m\u001b[38;5;28mmin\u001b[39m(\u001b[38;5;28mself\u001b[39m\u001b[38;5;241m.\u001b[39mh)\u001b[38;5;132;01m}\u001b[39;00m\u001b[38;5;124m\"\u001b[39m \u001b[38;5;241m+\u001b[39m \\\n\u001b[1;32m    222\u001b[0m                      \u001b[38;5;124mf\u001b[39m\u001b[38;5;124m\"\u001b[39m\u001b[38;5;124m or above \u001b[39m\u001b[38;5;132;01m{\u001b[39;00m\u001b[38;5;28mmax\u001b[39m(\u001b[38;5;28mself\u001b[39m\u001b[38;5;241m.\u001b[39mh)\u001b[38;5;132;01m}\u001b[39;00m\u001b[38;5;124m.\u001b[39m\u001b[38;5;124m\"\u001b[39m)\n\u001b[1;32m    224\u001b[0m \u001b[38;5;66;03m# if 'h' in the dictionary, use those heights\u001b[39;00m\n\u001b[1;32m    225\u001b[0m \u001b[38;5;28;01mif\u001b[39;00m \u001b[38;5;124m'\u001b[39m\u001b[38;5;124mh\u001b[39m\u001b[38;5;124m'\u001b[39m \u001b[38;5;129;01min\u001b[39;00m p_dict\u001b[38;5;241m.\u001b[39mkeys():\n",
      "\u001b[0;31mValueError\u001b[0m: Can't interpolate below 2.8655399999999998 or above 25.38755."
     ]
    }
   ],
   "source": [
    "p_out = ws._interpolate(measurement_dict, h_random,s=0)\n",
    "directions = p_out['phi']\n",
    "directions.shape"
   ]
  },
  {
   "cell_type": "code",
   "execution_count": 95,
   "id": "0ca2dd67",
   "metadata": {},
   "outputs": [
    {
     "data": {
      "text/plain": [
       "array([ 161.        , -181.09944751, -139.7355705 , -156.11517806,\n",
       "       -143.56063787, -104.73533809])"
      ]
     },
     "execution_count": 95,
     "metadata": {},
     "output_type": "execute_result"
    }
   ],
   "source": [
    "# using scipy linear interpolation\n",
    "interp_func = interp1d(measurement_dict['h'], measurement_dict['phi'])\n",
    "\n",
    "newarr = interp_func(h_random)\n",
    "newarr"
   ]
  },
  {
   "cell_type": "code",
   "execution_count": null,
   "id": "eb88af9c",
   "metadata": {},
   "outputs": [],
   "source": []
  }
 ],
 "metadata": {
  "kernelspec": {
   "display_name": "Python 3 (ipykernel)",
   "language": "python",
   "name": "python3"
  },
  "language_info": {
   "codemirror_mode": {
    "name": "ipython",
    "version": 3
   },
   "file_extension": ".py",
   "mimetype": "text/x-python",
   "name": "python",
   "nbconvert_exporter": "python",
   "pygments_lexer": "ipython3",
   "version": "3.10.8"
  }
 },
 "nbformat": 4,
 "nbformat_minor": 5
}
